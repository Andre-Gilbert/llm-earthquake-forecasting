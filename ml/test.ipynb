{
 "cells": [
  {
   "cell_type": "code",
   "execution_count": 1,
   "metadata": {},
   "outputs": [],
   "source": [
    "import pandas as pd\n",
    "from datetime import datetime, timedelta"
   ]
  },
  {
   "cell_type": "code",
   "execution_count": 2,
   "metadata": {},
   "outputs": [
    {
     "name": "stdout",
     "output_type": "stream",
     "text": [
      "Index(['California', 'Alaska', 'Nevada', 'Hawaii', 'Washington', 'Utah',\n",
      "       'Montana', 'Puerto Rico', 'Indonesia', 'Chile', 'Baja California',\n",
      "       'Oklahoma', 'Japan', 'Greece', 'Papua New Guinea', 'Philippines',\n",
      "       'Mexico', 'Italy', 'Russia', 'Idaho', 'Aleutian Islands', 'Tonga',\n",
      "       'Oregon', 'Wyoming', 'Turkey'],\n",
      "      dtype='object', name='region')\n"
     ]
    }
   ],
   "source": [
    "df = pd.read_csv('earthquakes.csv')\n",
    "\n",
    "df.time = pd.to_datetime(df.time)\n",
    "df = df.loc[df.time >= \"1994-01-01\"]\n",
    "df = df.sort_values(\"time\")\n",
    "df = df.set_index(\"time\")\n",
    "\n",
    "df[\"region\"] = df.place.str.split(\", \", expand=True)[1]\n",
    "df.region = df.region.fillna(df.place)\n",
    "df.region = df.region.replace({\"CA\": \"California\", \"B.C.\": \"Baja California\"})\n",
    "\n",
    "regions = df.region.value_counts()\n",
    "top_k = 25\n",
    "top_k_regions = regions.head(top_k).index\n",
    "print(top_k_regions)"
   ]
  },
  {
   "cell_type": "code",
   "execution_count": 5,
   "metadata": {},
   "outputs": [],
   "source": [
    "df = df.loc[df.region.isin(top_k_regions)]"
   ]
  },
  {
   "cell_type": "code",
   "execution_count": 10,
   "metadata": {},
   "outputs": [
    {
     "name": "stdout",
     "output_type": "stream",
     "text": [
      "{'region': {0: 'Alaska', 1: 'Aleutian Islands', 2: 'Baja California', 3: 'California', 4: 'Chile', 5: 'Greece', 6: 'Hawaii', 7: 'Idaho', 8: 'Indonesia', 9: 'Italy', 10: 'Japan', 11: 'Mexico', 12: 'Montana', 13: 'Nevada', 14: 'Oklahoma', 15: 'Oregon', 16: 'Papua New Guinea', 17: 'Philippines', 18: 'Puerto Rico', 19: 'Russia', 20: 'Tonga', 21: 'Turkey', 22: 'Utah', 23: 'Washington', 24: 'Wyoming'}, 'latitude': {0: 61.1224, 1: 51.7672, 2: 32.36241665, 3: 36.6798333, 4: -32.443, 5: 38.07, 6: 19.3948326, 7: 44.3036667, 8: -1.9559, 9: 44.204, 10: 36.306, 11: 16.629, 12: 44.7548333, 13: 38.158, 14: 36.1025, 15: 43.88341665, 16: -5.604, 17: 9.242, 18: 17.9971, 19: 50.895, 20: -18.9217, 21: 39.117, 22: 39.4306667, 23: 46.5871667, 24: 44.68158335}} {'region': {0: 'Alaska', 1: 'Aleutian Islands', 2: 'Baja California', 3: 'California', 4: 'Chile', 5: 'Greece', 6: 'Hawaii', 7: 'Idaho', 8: 'Indonesia', 9: 'Italy', 10: 'Japan', 11: 'Mexico', 12: 'Montana', 13: 'Nevada', 14: 'Oklahoma', 15: 'Oregon', 16: 'Papua New Guinea', 17: 'Philippines', 18: 'Puerto Rico', 19: 'Russia', 20: 'Tonga', 21: 'Turkey', 22: 'Utah', 23: 'Washington', 24: 'Wyoming'}, 'longitude': {0: -151.1221, 1: 178.314, 2: -115.57125, 3: -118.8568333, 4: -71.303, 5: 22.52, 6: -155.2838333, 7: -114.5975, 8: 122.566, 9: 10.717, 10: 141.044, 11: -98.208, 12: -111.0218333, 13: -117.8719, 14: -97.5726, 15: -121.93625, 16: 151.269, 17: 125.822, 18: -66.8571, 19: 150.9206, 20: -174.5247, 21: 28.975, 22: -111.4066667, 23: -122.1856667, 24: -110.7056667}}\n"
     ]
    }
   ],
   "source": [
    "median_lat = df.groupby('region').latitude.median().reset_index()\n",
    "median_long = df.groupby('region').longitude.median().reset_index()"
   ]
  },
  {
   "cell_type": "code",
   "execution_count": 14,
   "metadata": {},
   "outputs": [
    {
     "data": {
      "text/plain": [
       "[{'region': 'Alaska', 'latitude': 61.1224},\n",
       " {'region': 'Aleutian Islands', 'latitude': 51.7672},\n",
       " {'region': 'Baja California', 'latitude': 32.36241665},\n",
       " {'region': 'California', 'latitude': 36.6798333},\n",
       " {'region': 'Chile', 'latitude': -32.443},\n",
       " {'region': 'Greece', 'latitude': 38.07},\n",
       " {'region': 'Hawaii', 'latitude': 19.3948326},\n",
       " {'region': 'Idaho', 'latitude': 44.3036667},\n",
       " {'region': 'Indonesia', 'latitude': -1.9559},\n",
       " {'region': 'Italy', 'latitude': 44.204},\n",
       " {'region': 'Japan', 'latitude': 36.306},\n",
       " {'region': 'Mexico', 'latitude': 16.629},\n",
       " {'region': 'Montana', 'latitude': 44.7548333},\n",
       " {'region': 'Nevada', 'latitude': 38.158},\n",
       " {'region': 'Oklahoma', 'latitude': 36.1025},\n",
       " {'region': 'Oregon', 'latitude': 43.88341665},\n",
       " {'region': 'Papua New Guinea', 'latitude': -5.604},\n",
       " {'region': 'Philippines', 'latitude': 9.242},\n",
       " {'region': 'Puerto Rico', 'latitude': 17.9971},\n",
       " {'region': 'Russia', 'latitude': 50.895},\n",
       " {'region': 'Tonga', 'latitude': -18.9217},\n",
       " {'region': 'Turkey', 'latitude': 39.117},\n",
       " {'region': 'Utah', 'latitude': 39.4306667},\n",
       " {'region': 'Washington', 'latitude': 46.5871667},\n",
       " {'region': 'Wyoming', 'latitude': 44.68158335}]"
      ]
     },
     "execution_count": 14,
     "metadata": {},
     "output_type": "execute_result"
    }
   ],
   "source": [
    "median_lat.to_dict(orient='records')"
   ]
  },
  {
   "cell_type": "code",
   "execution_count": 15,
   "metadata": {},
   "outputs": [
    {
     "data": {
      "text/plain": [
       "[{'region': 'Alaska', 'longitude': -151.1221},\n",
       " {'region': 'Aleutian Islands', 'longitude': 178.314},\n",
       " {'region': 'Baja California', 'longitude': -115.57125},\n",
       " {'region': 'California', 'longitude': -118.8568333},\n",
       " {'region': 'Chile', 'longitude': -71.303},\n",
       " {'region': 'Greece', 'longitude': 22.52},\n",
       " {'region': 'Hawaii', 'longitude': -155.2838333},\n",
       " {'region': 'Idaho', 'longitude': -114.5975},\n",
       " {'region': 'Indonesia', 'longitude': 122.566},\n",
       " {'region': 'Italy', 'longitude': 10.717},\n",
       " {'region': 'Japan', 'longitude': 141.044},\n",
       " {'region': 'Mexico', 'longitude': -98.208},\n",
       " {'region': 'Montana', 'longitude': -111.0218333},\n",
       " {'region': 'Nevada', 'longitude': -117.8719},\n",
       " {'region': 'Oklahoma', 'longitude': -97.5726},\n",
       " {'region': 'Oregon', 'longitude': -121.93625},\n",
       " {'region': 'Papua New Guinea', 'longitude': 151.269},\n",
       " {'region': 'Philippines', 'longitude': 125.822},\n",
       " {'region': 'Puerto Rico', 'longitude': -66.8571},\n",
       " {'region': 'Russia', 'longitude': 150.9206},\n",
       " {'region': 'Tonga', 'longitude': -174.5247},\n",
       " {'region': 'Turkey', 'longitude': 28.975},\n",
       " {'region': 'Utah', 'longitude': -111.4066667},\n",
       " {'region': 'Washington', 'longitude': -122.1856667},\n",
       " {'region': 'Wyoming', 'longitude': -110.7056667}]"
      ]
     },
     "execution_count": 15,
     "metadata": {},
     "output_type": "execute_result"
    }
   ],
   "source": [
    "median_long.to_dict(orient='records')"
   ]
  }
 ],
 "metadata": {
  "kernelspec": {
   "display_name": "llm-earthquake-forecasting",
   "language": "python",
   "name": "python3"
  },
  "language_info": {
   "codemirror_mode": {
    "name": "ipython",
    "version": 3
   },
   "file_extension": ".py",
   "mimetype": "text/x-python",
   "name": "python",
   "nbconvert_exporter": "python",
   "pygments_lexer": "ipython3",
   "version": "3.11.9"
  }
 },
 "nbformat": 4,
 "nbformat_minor": 2
}
