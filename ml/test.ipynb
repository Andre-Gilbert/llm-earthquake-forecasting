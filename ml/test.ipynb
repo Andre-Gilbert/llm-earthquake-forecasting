{
 "cells": [
  {
   "cell_type": "code",
   "execution_count": 2,
   "metadata": {},
   "outputs": [
    {
     "name": "stdout",
     "output_type": "stream",
     "text": [
      "Rolling mean DataFrame:\n",
      "                   value1  value2\n",
      "region date                      \n",
      "East   2021-01-03     NaN     NaN\n",
      "       2021-01-07     NaN     NaN\n",
      "North  2021-01-01     NaN     NaN\n",
      "       2021-01-05     NaN     NaN\n",
      "South  2021-01-02     NaN     NaN\n",
      "       2021-01-06     NaN     NaN\n",
      "West   2021-01-04     NaN     NaN\n",
      "       2021-01-08     NaN     NaN\n",
      "\n",
      "Shifted DataFrame:\n",
      "           region  value1  value2  value1_shifted  value2_shifted\n",
      "date                                                             \n",
      "2021-01-01  North      10       5             NaN             NaN\n",
      "2021-01-02  South      20      10             NaN             NaN\n",
      "2021-01-03   East      30      15             NaN             NaN\n",
      "2021-01-04   West      40      20             NaN             NaN\n",
      "2021-01-05  North      15       7            10.0             5.0\n",
      "2021-01-06  South      25      12            20.0            10.0\n",
      "2021-01-07   East      35      17            30.0            15.0\n",
      "2021-01-08   West      45      22            40.0            20.0\n"
     ]
    }
   ],
   "source": [
    "import pandas as pd\n",
    "\n",
    "# Sample data\n",
    "data = {\n",
    "    'region': ['North', 'South', 'East', 'West', 'North', 'South', 'East', 'West'],\n",
    "    'date': pd.date_range(start='2021-01-01', periods=8, freq='D'),\n",
    "    'value1': [10, 20, 30, 40, 15, 25, 35, 45],\n",
    "    'value2': [5, 10, 15, 20, 7, 12, 17, 22]\n",
    "}\n",
    "df = pd.DataFrame(data)\n",
    "\n",
    "# Ensure the date column is the DataFrame index for rolling operations\n",
    "df.set_index('date', inplace=True)\n",
    "\n",
    "# Group by 'region' and apply rolling window\n",
    "rolling_df = df.groupby('region').rolling(window=3).mean()\n",
    "\n",
    "# Display the DataFrame with rolling mean\n",
    "print(\"Rolling mean DataFrame:\")\n",
    "print(rolling_df)\n",
    "\n",
    "# Group by 'region' and apply shift\n",
    "shifted_df = df.groupby('region').shift(1)\n",
    "\n",
    "# Combine the original and shifted data for comparison\n",
    "combined_df = df.join(shifted_df, rsuffix='_shifted')\n",
    "\n",
    "# Display the DataFrame with shifted values\n",
    "print(\"\\nShifted DataFrame:\")\n",
    "print(combined_df)\n"
   ]
  }
 ],
 "metadata": {
  "kernelspec": {
   "display_name": "llm-earthquake-forecasting",
   "language": "python",
   "name": "python3"
  },
  "language_info": {
   "codemirror_mode": {
    "name": "ipython",
    "version": 3
   },
   "file_extension": ".py",
   "mimetype": "text/x-python",
   "name": "python",
   "nbconvert_exporter": "python",
   "pygments_lexer": "ipython3",
   "version": "3.11.9"
  }
 },
 "nbformat": 4,
 "nbformat_minor": 2
}
