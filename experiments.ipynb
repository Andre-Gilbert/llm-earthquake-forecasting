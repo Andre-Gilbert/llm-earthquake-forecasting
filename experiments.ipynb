{
 "cells": [
  {
   "cell_type": "code",
   "execution_count": 1,
   "metadata": {},
   "outputs": [],
   "source": [
    "from language_models.agent.react import ReActAgent\n",
    "from language_models.llm.groq import GroqLanguageModel\n",
    "from language_models.settings import settings\n",
    "from pydantic import BaseModel, Field"
   ]
  },
  {
   "cell_type": "code",
   "execution_count": 2,
   "metadata": {},
   "outputs": [],
   "source": [
    "from groq import Groq\n",
    "\n",
    "client = Groq(api_key=settings.GROQ_API_KEY)\n",
    "\n",
    "llm = GroqLanguageModel(\n",
    "    groq_client=client,\n",
    "    model=\"mixtral-8x7b-32768\",\n",
    "    max_tokens=256,\n",
    "    temperature=0.0,\n",
    ")"
   ]
  },
  {
   "cell_type": "code",
   "execution_count": 3,
   "metadata": {},
   "outputs": [],
   "source": [
    "system_prompt = \"\"\"Take the following tweet and determine the sentiment of the review.\n",
    "\n",
    "Respond with 1 (positive) or 0 (negative).\n",
    "\n",
    "If you don't receive a tweet, respond with -1.\"\"\"\n",
    "\n",
    "llm = GroqLanguageModel(\n",
    "    groq_client=client,\n",
    "    model='llama3-70b-8192',\n",
    "    max_tokens=128,\n",
    "    float=0.0,\n",
    ")\n",
    "\n",
    "class Sentiment(BaseModel):\n",
    "    sentiment: int = Field(description=\"The sentiment of the tweet.\")\n",
    "\n",
    "agent = ReActAgent.create(\n",
    "    llm=llm,\n",
    "    system_prompt=system_prompt,\n",
    "    task_prompt=\"Tweet:\\n{tweet}\",\n",
    "    task_prompt_variables=[\"tweet\"],\n",
    "    tools=None,\n",
    "    output_format=Sentiment,\n",
    "    iterations=5,\n",
    ")"
   ]
  },
  {
   "cell_type": "code",
   "execution_count": 4,
   "metadata": {},
   "outputs": [
    {
     "name": "stderr",
     "output_type": "stream",
     "text": [
      "19/05/24 10:58:27 INFO Prompt:\n",
      "Tweet:\n",
      "@Vickie6dotcom Can't wait to play a game of Mario Kart with you!\n",
      "19/05/24 10:58:28 INFO HTTP Request: POST https://api.groq.com/openai/v1/chat/completions \"HTTP/1.1 200 OK\"\n",
      "19/05/24 10:58:28 INFO Raw response:\n",
      "{\n",
      "  \"thought\": \"Analyzing the sentiment of the tweet\",\n",
      "  \"tool\": \"Final Answer\",\n",
      "  \"tool_input\": {\"sentiment\": 1}\n",
      "}\n",
      "19/05/24 10:58:28 INFO Thought:\n",
      "Analyzing the sentiment of the tweet\n",
      "19/05/24 10:58:28 INFO Final answer:\n",
      "{'sentiment': 1}\n"
     ]
    }
   ],
   "source": [
    "response = agent.invoke({\"tweet\": \"@Vickie6dotcom Can't wait to play a game of Mario Kart with you!\"})"
   ]
  },
  {
   "cell_type": "code",
   "execution_count": 5,
   "metadata": {},
   "outputs": [
    {
     "name": "stdout",
     "output_type": "stream",
     "text": [
      "{'sentiment': 1}\n"
     ]
    }
   ],
   "source": [
    "print(response.final_answer)"
   ]
  }
 ],
 "metadata": {
  "kernelspec": {
   "display_name": "llm-earthquake-forecasting",
   "language": "python",
   "name": "python3"
  },
  "language_info": {
   "codemirror_mode": {
    "name": "ipython",
    "version": 3
   },
   "file_extension": ".py",
   "mimetype": "text/x-python",
   "name": "python",
   "nbconvert_exporter": "python",
   "pygments_lexer": "ipython3",
   "version": "3.11.9"
  }
 },
 "nbformat": 4,
 "nbformat_minor": 2
}
